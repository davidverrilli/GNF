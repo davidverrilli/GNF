{
 "cells": [
  {
   "cell_type": "markdown",
   "metadata": {},
   "source": [
    "## Creacion y solucion del sistema  formado por:\n",
    "\n",
    "$-\\delta_{n,\\sigma;n,\\sigma} = -(w-E_0+i\\eta)g^r_{n,\\sigma;n\\sigma} + \\gamma\\left(\n",
    "e^{i\\theta}g^r_{n+(N+1),\\sigma;n,\\sigma}+e^{-i\\theta}g^r_{n+(N-1),\\sigma;n,\\sigma}\\right) + \\frac{i\\lambda_{EO}}{2}\\nu\\sigma g^r_{n+(N+2),\\sigma;n,\\sigma} + \\frac{i\\lambda_R}{2}e^{-i\\xi\\sigma\\phi_R}\\left(g^r_{n+(N-1),-\\sigma;n,\\sigma}-g^r_{n+(N+1),-\\sigma;n,\\sigma}\n",
    "\\right)$\n",
    "\n",
    "con el argumento de periodicidad:  $g^r_{N+n,\\xi\\sigma}=g^r_{n,\\xi\\sigma}$\n",
    "\n",
    "\n",
    "Veamos cada los valores que acompanan a cada termino por separado:\n",
    "\n",
    "$(t_0) \\rightarrow g^r_{n,\\xi\\sigma}$\n",
    "\n",
    "$(t_1) \\rightarrow g^r_{n+(N+1),\\xi\\sigma}$ \n",
    "\n",
    "$(t_2) \\rightarrow g^r_{n+(N-1),\\xi\\sigma}$ \n",
    "\n",
    "$(t_3) \\rightarrow g^r_{n+(N+2),\\xi\\sigma}$ \n",
    "\n",
    "$(t_4) \\rightarrow g^r_{n+(N-1),-\\xi\\sigma}$ \n",
    "\n",
    "$(t_5) \\rightarrow g^r_{n+(N+1),-\\xi\\sigma}$\n",
    "\n",
    "El punto es crear un sistema algebraico del tipo $Ag^r=B$ y resolver para $g^r$"
   ]
  },
  {
   "cell_type": "code",
   "execution_count": 1,
   "metadata": {},
   "outputs": [],
   "source": [
    "import numpy as np\n",
    "import matplotlib.pyplot as plt "
   ]
  },
  {
   "cell_type": "code",
   "execution_count": 14,
   "metadata": {},
   "outputs": [],
   "source": [
    "N = 4 # numero de sitios\n",
    "gamma = 1\n",
    "theta = 0\n",
    "psi = 0\n",
    "nu = 1\n",
    "l_R = 2\n",
    "l_EO = 2\n",
    "sigma = 1\n",
    "E0 = 1\n",
    "KbT = 1\n",
    "w = 1\n",
    "eta = 1\n",
    "e = 1.6E-19"
   ]
  },
  {
   "cell_type": "code",
   "execution_count": 15,
   "metadata": {},
   "outputs": [
    {
     "name": "stdout",
     "output_type": "stream",
     "text": [
      "[[0.-1.j 1.+0.j 0.+1.j 1.+0.j 0.+0.j 0.-1.j 0.+0.j 0.+1.j]\n",
      " [1.+0.j 0.-1.j 1.+0.j 0.+1.j 0.+1.j 0.+0.j 0.-1.j 0.+0.j]\n",
      " [0.+1.j 1.+0.j 0.-1.j 1.+0.j 0.+0.j 0.+1.j 0.+0.j 0.-1.j]\n",
      " [1.+0.j 0.+1.j 1.+0.j 0.-1.j 0.-1.j 0.+0.j 0.+1.j 0.+0.j]\n",
      " [0.+0.j 0.-1.j 0.+0.j 0.+1.j 0.-1.j 1.+0.j 0.-1.j 1.+0.j]\n",
      " [0.+1.j 0.+0.j 0.-1.j 0.+0.j 1.+0.j 0.-1.j 1.+0.j 0.-1.j]\n",
      " [0.+0.j 0.+1.j 0.+0.j 0.-1.j 0.-1.j 1.+0.j 0.-1.j 1.+0.j]\n",
      " [0.-1.j 0.+0.j 0.+1.j 0.+0.j 1.+0.j 0.-1.j 1.+0.j 0.-1.j]]\n"
     ]
    }
   ],
   "source": [
    "def fila(n,xi,w,theta,psi):\n",
    "    '''\n",
    "    Esta función crea cada fila (cada ecuación)\n",
    "    n indica el sitio en cuestión\n",
    "    '''\n",
    "    A = np.zeros(2*N,dtype=complex)\n",
    "    # evaluemos cada termino\n",
    "    if xi==1: i = 0\n",
    "    else: i = N\n",
    "    A[n-1+i] += -(w-E0+eta*1.0j) # t0\n",
    "    k = N+1\n",
    "    l = (n+k)%N\n",
    "    if(l==0): l=N \n",
    "    A[l-1+i] += gamma*np.exp(theta*1j) # t1\n",
    "    k = N-1\n",
    "    l = (n+k)%N\n",
    "    if(l==0): l=N \n",
    "    A[l-1+i] += gamma*np.exp(-theta*1j) # t2 \n",
    "    k = N+2\n",
    "    l = (n+k)%N\n",
    "    if(l==0): l=N \n",
    "    A[l-1+i] += l_EO*nu*xi*0.5j # t3\n",
    "    if xi==1: i = N\n",
    "    else: i = 0\n",
    "    k = N-1\n",
    "    l = (n+k)%N\n",
    "    if(l==0): l=N \n",
    "    A[l-1+i] += l_R*np.exp(-xi*sigma*psi*1j)*0.5j  # t4\n",
    "    k = N+1\n",
    "    l = (n+k)%N\n",
    "    if(l==0): l=N\n",
    "    A[l-1+i] += -l_R*np.exp(-xi*sigma*psi*1j)*0.5j # t5    \n",
    "    return A\n",
    "\n",
    "def matrix_A(w,theta,psi):\n",
    "    '''\n",
    "    Esta función crea la matriz completa con los valores de xi=1 \n",
    "    y luego con los valores de xi=-1, en ese orden\n",
    "    '''\n",
    "    A = np.matrix(np.empty(shape=(0,2*N), dtype=complex))\n",
    "    for n in range(1,N+1):  \n",
    "        a1 = fila(n,1,w,theta,psi)\n",
    "        A = np.insert(A,(n-1),a1,axis=0)\n",
    "    for n in range(1,N+1):  \n",
    "        a1 = fila(n,-1,w,theta,psi)\n",
    "        A = np.insert(A,(n-1)+N,a1,axis=0)\n",
    "    return A\n",
    "\n",
    "\n",
    "A = matrix_A(w,theta,psi)\n",
    "B = np.zeros(2*N,dtype=complex)\n",
    "B[0] = -1\n",
    "\n",
    "\n",
    "print(A)"
   ]
  },
  {
   "cell_type": "markdown",
   "metadata": {},
   "source": [
    "### Veamos si esta bien el sistema probando con N = 4\n",
    "Si colocamos $\\theta=\\psi=0$, $w=\\eta = EO=1$, y $\\lambda_R=\\lambda_0=2$\n",
    "El sistema a resolver sera:\n",
    "\n",
    "$\n",
    "\\left(\\begin{array}{cccc}\n",
    "-i & 1 & i & 1 & 0 & -i & 0 & i \\\\\n",
    " 1 & -i& 1 & i & i & 0  & -i& 0 \\\\\n",
    " i & 1 &-i & 1 & 0 & i  & 0 & -i \\\\\n",
    " 1 & i & 1 &-i &-i & 0  & i & 0 \\\\\n",
    " 0 &-i & 0 & i &-i & 1  &-i & 1 \\\\\n",
    " i & 0 &-i & 0 & 1 &-i  & 1 &-i \\\\\n",
    " 0 & i & 0 &-i &-i & 1  &-i & 1 \\\\\n",
    "-i & 0 & i & 0 & 1 &-i  & 1 & -i \\\\\n",
    "\\end{array}\\right)\\left(\\begin{array}{c}\n",
    "g^r_{1,1}  \\\\ g^r_{2,1} \\\\ g^r_{3,1} \\\\ g^r_{4,1} \\\\ g^r_{1,-1} \\\\ g^r_{2,-1} \\\\ g^r_{3,-1} \\\\ g^r_{4,-1}  \n",
    "\\end{array}\\right) = \\left(\\begin{array}{c}\n",
    "-1  \\\\ 0 \\\\ 0 \\\\ 0 \\\\ 0 \\\\ 0 \\\\ 0 \\\\ 0  \n",
    "\\end{array}\\right)\n",
    "$"
   ]
  },
  {
   "cell_type": "markdown",
   "metadata": {},
   "source": [
    "### Veamos si esta bien el sistema probando con N = 6\n",
    "Si colocamos $\\theta=\\psi=0$, $w=\\eta = EO=1$, y $\\lambda_R=\\lambda_0=2$\n",
    "El sistema a resolver sera:\n",
    "\n",
    "$\n",
    "\\left(\\begin{array}{cccc}\n",
    "-i & 1 & i & 0 & 0 & 1 & 0 &-i & 0 & 0 & 0 & i \\\\\n",
    " 1 &-i & 1 & i & 0 & 0 & i & 0 &-i & 0 & 0 & 0 \\\\\n",
    " 0 & 1 &-i & 1 & i & 0 & 0 & i & 0 &-i & 0 & 0 \\\\\n",
    " 0 & 0 & 1 &-i & 1 & i & 0 & 0 & i & 0 &-i & 0 \\\\\n",
    " i & 0 & 0 & 1 &-i & 1 & 0 & 0 & 0 & i & 0 &-i \\\\\n",
    " 1 & i & 0 & 0 & 1 &-i &-i & 0 & 0 & 0 & i & 0 \\\\\n",
    " 0 &-i & 0 & 0 & 0 & i &-i & 1 & i & 0 & 0 & 1 \\\\\n",
    " i & 0 &-i & 0 & 0 & 0 & 1 &-i & 1 & i & 0 & 0 \\\\\n",
    " 0 & i & 0 &-i & 0 & 0 & 0 & 1 &-i & 1 & i & 0 \\\\\n",
    " 0 & 0 & i & 0 &-i & 0 & 0 & 0 & 1 &-i & 1 & i \\\\\n",
    " 0 & 0 & 0 & i & 0 &-i & i & 0 & 0 & 1 &-i & 1 \\\\\n",
    "-i & 0 & 0 & 0 & i & 0 & 1 & i & 0 & 0 & 1 &-i \\\\\n",
    "\\end{array}\\right)\\left(\\begin{array}{c}\n",
    "g^r_{1,1}  \\\\ g^r_{2,1} \\\\ g^r_{3,1} \\\\ g^r_{4,1}\\\\ g^r_{5,1} \\\\ g^r_{6,1}  \\\\ g^r_{1,-1} \\\\ g^r_{2,-1} \\\\ g^r_{3,-1} \\\\ g^r_{4,-1}  \\\\ g^r_{5,-1} \\\\ g^r_{6,-1}\n",
    "\\end{array}\\right) = \\left(\\begin{array}{c}\n",
    "-1  \\\\ 0 \\\\ 0 \\\\ 0 \\\\ 0 \\\\ 0 \\\\ 0 \\\\ 0  \\\\ 0 \\\\ 0 \\\\ 0 \\\\ 0\n",
    "\\end{array}\\right)\n",
    "$"
   ]
  },
  {
   "cell_type": "code",
   "execution_count": 16,
   "metadata": {},
   "outputs": [
    {
     "name": "stdout",
     "output_type": "stream",
     "text": [
      "[[0.-1.j 1.+0.j 0.+1.j 0.+0.j 0.+0.j 1.+0.j 0.+0.j 0.-1.j 0.+0.j 0.+0.j\n",
      "  0.+0.j 0.+1.j]\n",
      " [1.+0.j 0.-1.j 1.+0.j 0.+1.j 0.+0.j 0.+0.j 0.+1.j 0.+0.j 0.-1.j 0.+0.j\n",
      "  0.+0.j 0.+0.j]\n",
      " [0.+0.j 1.+0.j 0.-1.j 1.+0.j 0.+1.j 0.+0.j 0.+0.j 0.+1.j 0.+0.j 0.-1.j\n",
      "  0.+0.j 0.+0.j]\n",
      " [0.+0.j 0.+0.j 1.+0.j 0.-1.j 1.+0.j 0.+1.j 0.+0.j 0.+0.j 0.+1.j 0.+0.j\n",
      "  0.-1.j 0.+0.j]\n",
      " [0.+1.j 0.+0.j 0.+0.j 1.+0.j 0.-1.j 1.+0.j 0.+0.j 0.+0.j 0.+0.j 0.+1.j\n",
      "  0.+0.j 0.-1.j]\n",
      " [1.+0.j 0.+1.j 0.+0.j 0.+0.j 1.+0.j 0.-1.j 0.-1.j 0.+0.j 0.+0.j 0.+0.j\n",
      "  0.+1.j 0.+0.j]\n",
      " [0.+0.j 0.-1.j 0.+0.j 0.+0.j 0.+0.j 0.+1.j 0.-1.j 1.+0.j 0.-1.j 0.+0.j\n",
      "  0.+0.j 1.+0.j]\n",
      " [0.+1.j 0.+0.j 0.-1.j 0.+0.j 0.+0.j 0.+0.j 1.+0.j 0.-1.j 1.+0.j 0.-1.j\n",
      "  0.+0.j 0.+0.j]\n",
      " [0.+0.j 0.+1.j 0.+0.j 0.-1.j 0.+0.j 0.+0.j 0.+0.j 1.+0.j 0.-1.j 1.+0.j\n",
      "  0.-1.j 0.+0.j]\n",
      " [0.+0.j 0.+0.j 0.+1.j 0.+0.j 0.-1.j 0.+0.j 0.+0.j 0.+0.j 1.+0.j 0.-1.j\n",
      "  1.+0.j 0.-1.j]\n",
      " [0.+0.j 0.+0.j 0.+0.j 0.+1.j 0.+0.j 0.-1.j 0.-1.j 0.+0.j 0.+0.j 1.+0.j\n",
      "  0.-1.j 1.+0.j]\n",
      " [0.-1.j 0.+0.j 0.+0.j 0.+0.j 0.+1.j 0.+0.j 1.+0.j 0.-1.j 0.+0.j 0.+0.j\n",
      "  1.+0.j 0.-1.j]]\n"
     ]
    }
   ],
   "source": [
    "N = 6\n",
    "A = matrix_A(w,theta,psi)\n",
    "B = np.zeros(2*N,dtype=complex)\n",
    "B[0] = -1\n",
    "print(A)"
   ]
  },
  {
   "cell_type": "markdown",
   "metadata": {},
   "source": [
    "## Resolvemos el sistema"
   ]
  },
  {
   "cell_type": "code",
   "execution_count": 17,
   "metadata": {},
   "outputs": [
    {
     "name": "stdout",
     "output_type": "stream",
     "text": [
      "[ 0.        -0.16245487j -0.066787  +0.j          0.        +0.15523466j\n",
      " -0.24729242+0.j          0.        +0.00722022j -0.18592058+0.j\n",
      "  0.05054152+0.j          0.        -0.19855596j -0.13718412+0.j\n",
      "  0.        -0.03249097j  0.0866426 +0.j          0.        +0.23104693j]\n"
     ]
    }
   ],
   "source": [
    "G = np.dot(np.linalg.inv(A),B)\n",
    "G = np.asarray(G).ravel()\n",
    "\n",
    "# Los valores de G[0]=g_1,1  G[1] = g_2,1, ... G[N/2] = g_1,-1 ... G[-1] = g_N,-1\n",
    "print(G)\n",
    "#print(np.dot(A,G)) #chequeo de q lo resuelve correctamente!!"
   ]
  },
  {
   "cell_type": "code",
   "execution_count": null,
   "metadata": {},
   "outputs": [],
   "source": []
  }
 ],
 "metadata": {
  "kernelspec": {
   "display_name": "Python 3",
   "language": "python",
   "name": "python3"
  },
  "language_info": {
   "codemirror_mode": {
    "name": "ipython",
    "version": 3
   },
   "file_extension": ".py",
   "mimetype": "text/x-python",
   "name": "python",
   "nbconvert_exporter": "python",
   "pygments_lexer": "ipython3",
   "version": "3.6.7"
  }
 },
 "nbformat": 4,
 "nbformat_minor": 2
}
